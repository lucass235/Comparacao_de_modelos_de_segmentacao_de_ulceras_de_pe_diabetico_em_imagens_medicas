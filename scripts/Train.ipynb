{
 "cells": [
  {
   "cell_type": "code",
   "execution_count": 1,
   "id": "d421aa17",
   "metadata": {},
   "outputs": [],
   "source": [
    "import os\n",
    "import sys\n",
    "module_path = os.path.abspath(os.path.join('..'))\n",
    "if module_path not in sys.path:\n",
    "    sys.path.append(module_path)"
   ]
  },
  {
   "cell_type": "code",
   "execution_count": 2,
   "id": "f15b61de",
   "metadata": {},
   "outputs": [
    {
     "name": "stdout",
     "output_type": "stream",
     "text": [
      "WARNING:tensorflow:From c:\\Program Files\\Python310\\lib\\site-packages\\tf_keras\\src\\losses.py:2976: The name tf.losses.sparse_softmax_cross_entropy is deprecated. Please use tf.compat.v1.losses.sparse_softmax_cross_entropy instead.\n",
      "\n"
     ]
    }
   ],
   "source": [
    "\n",
    "from woundSegmentation.models.unets import Unet2D\n",
    "from woundSegmentation.models.deeplab import Deeplabv3\n",
    "from woundSegmentation.models.FCN import VGG_19\n",
    "from woundSegmentation.models.SegNet import SegNet\n",
    "from woundSegmentation.models.fusegnet import FUSegNet\n",
    "\n",
    "from woundSegmentation.utils.learning.metrics import dice_coef, precision, recall\n",
    "from woundSegmentation.utils.learning.losses import dice_coef_loss\n",
    "from woundSegmentation.utils.io.data import DataGen, save_history\n",
    "\n",
    "from tensorflow.keras.optimizers import Adam\n",
    "from keras.callbacks import EarlyStopping\n",
    "\n",
    "import numpy as np\n",
    "import tensorflow as tf\n",
    "import tensorflow_model_optimization as tfmot\n",
    "\n",
    "import os\n",
    "import time\n",
    "\n",
    "%load_ext tensorboard"
   ]
  },
  {
   "cell_type": "code",
   "execution_count": 3,
   "id": "1f4520d7",
   "metadata": {},
   "outputs": [],
   "source": [
    "# Insira o modelo desejado\n",
    "modelName = \"mobilenetv2\"\n",
    "\n",
    "# Se o modelo é podado ou não\n",
    "prune = False"
   ]
  },
  {
   "cell_type": "code",
   "execution_count": 4,
   "id": "a14de875",
   "metadata": {},
   "outputs": [
    {
     "name": "stdout",
     "output_type": "stream",
     "text": [
      "Numero de GPUs disponiveis:  0\n"
     ]
    }
   ],
   "source": [
    "import os\n",
    "# Seleção do caminho\n",
    "if prune:\n",
    "    os.environ[\"CUDA_VISIBLE_DEVICES\"] = \"-1\"\n",
    "    \n",
    "print(\"Numero de GPUs disponiveis: \", len(tf.config.list_physical_devices('GPU')))"
   ]
  },
  {
   "cell_type": "code",
   "execution_count": 5,
   "id": "a6d2fc5f",
   "metadata": {},
   "outputs": [],
   "source": [
    "# Modelos disponiveis\n",
    "models = [\"fcn\", \"mobilenetv2\", \"segnet\", \"unet\", \"fusegnet\"]\n",
    "\n",
    "\n",
    "# Seleção do caminho\n",
    "if prune:\n",
    "    dirPath = '../woundSegmentation/results_prune/'\n",
    "else:\n",
    "    dirPath = '../woundSegmentation/results/'\n",
    "\n",
    "# Criacao de arquivos\n",
    "isdir = os.path.isdir(dirPath)\n",
    "if not isdir:\n",
    "    os.mkdir(dirPath)\n",
    "    for i in range(len(models)):\n",
    "        os.mkdir(dirPath + models[i])\n",
    "        os.mkdir(dirPath + models[i] + \"/training_history/\")\n",
    "        os.mkdir(dirPath + models[i] + \"/datapredict/\")\n",
    "        \n",
    "modelDirPath = dirPath + modelName + \"/\""
   ]
  },
  {
   "cell_type": "code",
   "execution_count": 6,
   "id": "b7ac9872",
   "metadata": {},
   "outputs": [],
   "source": [
    "# Variaveis e gerador de dados\n",
    "input_dim_x = 224\n",
    "input_dim_y = 224\n",
    "n_filters = 32\n",
    "dataset = 'Foot Ulcer Segmentation Challenge'\n",
    "datasetpath = '../woundSegmentation/data/' + dataset\n",
    "#dataset= 'Medetec_foot_ulcer_224'\n",
    "data_gen = DataGen('../woundSegmentation/data/' + dataset + '/', split_ratio=0.2, x=input_dim_x, y=input_dim_y)"
   ]
  },
  {
   "cell_type": "code",
   "execution_count": 7,
   "id": "b55fb27a",
   "metadata": {},
   "outputs": [],
   "source": [
    "# Unet\n",
    "if (modelName == \"unet\"):\n",
    "    unet2d = Unet2D(n_filters=n_filters, input_dim_x=None, input_dim_y=None, num_channels=3)\n",
    "    model, model_name = unet2d.get_unet_model_yuanqing()\n",
    "    print(\"Modelo Unet Carregado!\")"
   ]
  },
  {
   "cell_type": "code",
   "execution_count": 8,
   "id": "0180d1af",
   "metadata": {},
   "outputs": [],
   "source": [
    "# SegNet\n",
    "if (modelName == \"segnet\"):\n",
    "    segNet = SegNet(n_filters=n_filters, input_dim_x=None, input_dim_y=None, num_channels=3)\n",
    "    model, model_name = segNet.get_SegNet()\n",
    "    print(\"Modelo Segnet Carregado!\")"
   ]
  },
  {
   "cell_type": "code",
   "execution_count": 9,
   "id": "b5e7bcc6",
   "metadata": {},
   "outputs": [
    {
     "name": "stdout",
     "output_type": "stream",
     "text": [
      "Modelo MobilenetV2 Carregado!\n"
     ]
    }
   ],
   "source": [
    "# MobilenetV2\n",
    "if (modelName == \"mobilenetv2\"):\n",
    "    model = Deeplabv3(input_shape=(input_dim_x, input_dim_y, 3), classes=1)\n",
    "    model_name = 'MobilenetV2'\n",
    "    print(\"Modelo MobilenetV2 Carregado!\")"
   ]
  },
  {
   "cell_type": "code",
   "execution_count": 10,
   "id": "37994cf9",
   "metadata": {},
   "outputs": [],
   "source": [
    "# FCN\n",
    "if (modelName == \"fcn\"):\n",
    "    model = VGG_19(input_shape=(input_dim_x, input_dim_y, 3))\n",
    "    model_name = 'FCN'\n",
    "    print(\"Modelo FCN Carregado!\")"
   ]
  },
  {
   "cell_type": "code",
   "execution_count": 11,
   "id": "f4d1a04c",
   "metadata": {},
   "outputs": [],
   "source": [
    "# FUSegNet\n",
    "if modelName == \"fusegnet\":\n",
    "    fusegnet = FUSegNet(n_filters=n_filters, input_dim_x=input_dim_x, input_dim_y=input_dim_y, num_channels=3)\n",
    "    model, model_name = fusegnet.get_FUSegNet()\n",
    "    print(\"Modelo FUSegNet Carregado!\")"
   ]
  },
  {
   "cell_type": "code",
   "execution_count": 12,
   "id": "23d0f338",
   "metadata": {},
   "outputs": [],
   "source": [
    "# Configuracoes de treinamento\n",
    "batch_size = 2\n",
    "epochs = 150\n",
    "learning_rate = 1e-4\n",
    "loss = 'binary_crossentropy'"
   ]
  },
  {
   "cell_type": "code",
   "execution_count": 13,
   "id": "240c2bea",
   "metadata": {},
   "outputs": [
    {
     "name": "stdout",
     "output_type": "stream",
     "text": [
      "Não será Podado!\n"
     ]
    }
   ],
   "source": [
    "# Tecnica de poda\n",
    "if prune:\n",
    "    prune_low_magnitude = tfmot.sparsity.keras.prune_low_magnitude\n",
    "    \n",
    "    num_images = 810 * (1 - 0.2)\n",
    "    end_step = np.ceil(num_images / batch_size).astype(np.int32) * epochs\n",
    "    \n",
    "    pruning_params = {\n",
    "      'pruning_schedule': tfmot.sparsity.keras.PolynomialDecay(initial_sparsity=0.1, final_sparsity=0.90, begin_step=0, end_step=end_step)\n",
    "    }\n",
    "    \n",
    "    model_pruned = prune_low_magnitude(model, **pruning_params)\n",
    "    print(\"Poda aplicada ao modelo!\")\n",
    "else:\n",
    "    model_pruned = model\n",
    "    print('Não será Podado!')    "
   ]
  },
  {
   "cell_type": "code",
   "execution_count": 14,
   "id": "c699a9b8",
   "metadata": {},
   "outputs": [],
   "source": [
    "# Cria o txt do resumo do modelo\n",
    "def printmodelsummary(s):\n",
    "    with open(modelDirPath + modelName + 'Modelsummary.txt','a') as f:\n",
    "        print(s, file=f)\n",
    "\n",
    "# model_pruned.summary(print_fn=printmodelsummary)"
   ]
  },
  {
   "cell_type": "code",
   "execution_count": 15,
   "id": "6d2f5bff",
   "metadata": {},
   "outputs": [],
   "source": [
    "# callback\n",
    "if prune:\n",
    "    callbacks = [\n",
    "        EarlyStopping(monitor='val_dice_coef', patience=50, mode='max', restore_best_weights=True),\n",
    "        tfmot.sparsity.keras.UpdatePruningStep()\n",
    "    ]\n",
    "else:\n",
    "    callbacks = [\n",
    "        EarlyStopping(monitor='val_dice_coef', patience=50, mode='max', restore_best_weights=True)\n",
    "    ]"
   ]
  },
  {
   "cell_type": "code",
   "execution_count": null,
   "id": "0e93734f",
   "metadata": {},
   "outputs": [
    {
     "name": "stdout",
     "output_type": "stream",
     "text": [
      "Epoch 1/150\n",
      "\u001b[1m111/648\u001b[0m \u001b[32m━━━\u001b[0m\u001b[37m━━━━━━━━━━━━━━━━━\u001b[0m \u001b[1m1:59\u001b[0m 222ms/step - dice_coef: 0.0034 - loss: 0.1746 - precision: 0.0048 - recall: 0.0054"
     ]
    }
   ],
   "source": [
    "# Treinamento\n",
    "start = time.time()\n",
    "model_pruned.compile(optimizer=Adam(learning_rate=learning_rate), loss=loss, metrics=[dice_coef, precision, recall])\n",
    "training_history = model_pruned.fit(data_gen.generate_data(batch_size=batch_size, train=True),\n",
    "                             steps_per_epoch=int(data_gen.get_num_data_points(train=True) / batch_size),\n",
    "                             callbacks=callbacks,\n",
    "                             validation_data=data_gen.generate_data(batch_size=batch_size, val=True),\n",
    "                             validation_steps=int(data_gen.get_num_data_points(val=True) / batch_size),\n",
    "                             epochs=epochs)\n",
    "end = time.time()\n",
    "file = open(modelDirPath + modelName +\"Time.txt\", \"w\")\n",
    "file.write(\"Treinamento\\n\")\n",
    "file.write(str(end-start))\n",
    "file.close()"
   ]
  },
  {
   "cell_type": "code",
   "execution_count": null,
   "id": "f19bf8d2",
   "metadata": {},
   "outputs": [
    {
     "name": "stderr",
     "output_type": "stream",
     "text": [
      "WARNING:absl:You are saving your model as an HDF5 file via `model.save()` or `keras.saving.save_model(model)`. This file format is considered legacy. We recommend using instead the native Keras format, e.g. `model.save('my_model.keras')` or `keras.saving.save_model(model, 'my_model.keras')`. \n"
     ]
    },
    {
     "data": {
      "image/png": "[encoded data removed]",
      "text/plain": [
       "<Figure size 640x480 with 1 Axes>"
      ]
     },
     "metadata": {},
     "output_type": "display_data"
    },
    {
     "data": {
      "text/plain": [
       "<Figure size 640x480 with 0 Axes>"
      ]
     },
     "metadata": {},
     "output_type": "display_data"
    }
   ],
   "source": [
    "# Salva o modelo e o historico de treinamento\n",
    "save_history(model, model_name, training_history, dataset, n_filters, epochs, learning_rate, loss, color_space='RGB',\n",
    "             path= modelDirPath + \"training_history/\", name= modelName + \"prunedmodelfile\")"
   ]
  }
 ],
 "metadata": {
  "kernelspec": {
   "display_name": "Python 3",
   "language": "python",
   "name": "python3"
  },
  "language_info": {
   "codemirror_mode": {
    "name": "ipython",
    "version": 3
   },
   "file_extension": ".py",
   "mimetype": "text/x-python",
   "name": "python",
   "nbconvert_exporter": "python",
   "pygments_lexer": "ipython3",
   "version": "3.10.0"
  }
 },
 "nbformat": 4,
 "nbformat_minor": 5
}
