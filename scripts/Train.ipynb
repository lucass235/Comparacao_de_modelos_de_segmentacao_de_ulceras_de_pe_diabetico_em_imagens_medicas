{
 "cells": [
  {
   "cell_type": "code",
   "execution_count": 1,
   "id": "d421aa17",
   "metadata": {},
   "outputs": [],
   "source": [
    "import os\n",
    "import sys\n",
    "module_path = os.path.abspath(os.path.join('..'))\n",
    "if module_path not in sys.path:\n",
    "    sys.path.append(module_path)"
   ]
  },
  {
   "cell_type": "code",
   "execution_count": 2,
   "id": "f15b61de",
   "metadata": {},
   "outputs": [
    {
     "name": "stdout",
     "output_type": "stream",
     "text": [
      "WARNING:tensorflow:From c:\\Users\\Lucas\\AppData\\Local\\Programs\\Python\\Python310\\lib\\site-packages\\tf_keras\\src\\losses.py:2976: The name tf.losses.sparse_softmax_cross_entropy is deprecated. Please use tf.compat.v1.losses.sparse_softmax_cross_entropy instead.\n",
      "\n"
     ]
    }
   ],
   "source": [
    "\n",
    "from woundSegmentation.models.unets import Unet2D\n",
    "# from woundSegmentation.models.deeplab import Deeplabv3\n",
    "from woundSegmentation.models.FCN import VGG_19\n",
    "from woundSegmentation.models.SegNet import SegNet\n",
    "from woundSegmentation.models.fusegnet import FUSegNet\n",
    "\n",
    "from woundSegmentation.utils.learning.metrics import dice_coef, precision, recall\n",
    "from woundSegmentation.utils.learning.losses import dice_coef_loss\n",
    "from woundSegmentation.utils.io.data import DataGen, save_history\n",
    "\n",
    "from tensorflow.keras.optimizers import Adam\n",
    "from keras.callbacks import EarlyStopping\n",
    "\n",
    "import numpy as np\n",
    "import tensorflow as tf\n",
    "import tensorflow_model_optimization as tfmot\n",
    "\n",
    "import os\n",
    "import time\n",
    "\n",
    "%load_ext tensorboard"
   ]
  },
  {
   "cell_type": "code",
   "execution_count": 3,
   "id": "1f4520d7",
   "metadata": {},
   "outputs": [],
   "source": [
    "# Insira o modelo desejado\n",
    "modelName = \"fcn\"\n",
    "\n",
    "# Se o modelo é podado ou não\n",
    "prune = False"
   ]
  },
  {
   "cell_type": "code",
   "execution_count": 4,
   "id": "a14de875",
   "metadata": {},
   "outputs": [
    {
     "name": "stdout",
     "output_type": "stream",
     "text": [
      "Numero de GPUs disponiveis:  0\n"
     ]
    }
   ],
   "source": [
    "import os\n",
    "# Seleção do caminho\n",
    "if prune:\n",
    "    os.environ[\"CUDA_VISIBLE_DEVICES\"] = \"-1\"\n",
    "    \n",
    "print(\"Numero de GPUs disponiveis: \", len(tf.config.list_physical_devices('GPU')))"
   ]
  },
  {
   "cell_type": "code",
   "execution_count": 5,
   "id": "a6d2fc5f",
   "metadata": {},
   "outputs": [],
   "source": [
    "# Modelos disponiveis\n",
    "models = [\"fcn\", \"mobilenetv2\", \"segnet\", \"unet\", \"fusegnet\"]\n",
    "\n",
    "\n",
    "# Seleção do caminho\n",
    "if prune:\n",
    "    dirPath = '../woundSegmentation/results_prune/'\n",
    "else:\n",
    "    dirPath = '../woundSegmentation/results/'\n",
    "\n",
    "# Criacao de arquivos\n",
    "isdir = os.path.isdir(dirPath)\n",
    "if not isdir:\n",
    "    os.mkdir(dirPath)\n",
    "    for i in range(len(models)):\n",
    "        os.mkdir(dirPath + models[i])\n",
    "        os.mkdir(dirPath + models[i] + \"/training_history/\")\n",
    "        os.mkdir(dirPath + models[i] + \"/datapredict/\")\n",
    "        \n",
    "modelDirPath = dirPath + modelName + \"/\""
   ]
  },
  {
   "cell_type": "code",
   "execution_count": 6,
   "id": "b7ac9872",
   "metadata": {},
   "outputs": [],
   "source": [
    "# Variaveis e gerador de dados\n",
    "input_dim_x = 224\n",
    "input_dim_y = 224\n",
    "n_filters = 32\n",
    "dataset = 'Foot Ulcer Segmentation Challenge'\n",
    "datasetpath = '../woundSegmentation/data/' + dataset\n",
    "#dataset= 'Medetec_foot_ulcer_224'\n",
    "data_gen = DataGen('../woundSegmentation/data/' + dataset + '/', split_ratio=0.2, x=input_dim_x, y=input_dim_y)"
   ]
  },
  {
   "cell_type": "code",
   "execution_count": 7,
   "id": "b55fb27a",
   "metadata": {},
   "outputs": [],
   "source": [
    "# Unet\n",
    "if (modelName == \"unet\"):\n",
    "    unet2d = Unet2D(n_filters=n_filters, input_dim_x=None, input_dim_y=None, num_channels=3)\n",
    "    model, model_name = unet2d.get_unet_model_yuanqing()\n",
    "    print(\"Modelo Unet Carregado!\")"
   ]
  },
  {
   "cell_type": "code",
   "execution_count": 8,
   "id": "0180d1af",
   "metadata": {},
   "outputs": [],
   "source": [
    "# SegNet\n",
    "if (modelName == \"segnet\"):\n",
    "    segNet = SegNet(n_filters=n_filters, input_dim_x=None, input_dim_y=None, num_channels=3)\n",
    "    model, model_name = segNet.get_SegNet()\n",
    "    print(\"Modelo Segnet Carregado!\")"
   ]
  },
  {
   "cell_type": "code",
   "execution_count": 9,
   "id": "b5e7bcc6",
   "metadata": {},
   "outputs": [],
   "source": [
    "# MobilenetV2\n",
    "if (modelName == \"mobilenetv2\"):\n",
    "    model = Deeplabv3(input_shape=(input_dim_x, input_dim_y, 3), classes=1)\n",
    "    model_name = 'MobilenetV2'\n",
    "    print(\"Modelo MobilenetV2 Carregado!\")"
   ]
  },
  {
   "cell_type": "code",
   "execution_count": 10,
   "id": "37994cf9",
   "metadata": {},
   "outputs": [
    {
     "name": "stdout",
     "output_type": "stream",
     "text": [
      "Modelo FCN Carregado!\n"
     ]
    }
   ],
   "source": [
    "# FCN\n",
    "if (modelName == \"fcn\"):\n",
    "    model = VGG_19(input_shape=(input_dim_x, input_dim_y, 3))\n",
    "    model_name = 'FCN'\n",
    "    print(\"Modelo FCN Carregado!\")"
   ]
  },
  {
   "cell_type": "code",
   "execution_count": 11,
   "id": "f4d1a04c",
   "metadata": {},
   "outputs": [],
   "source": [
    "# FUSegNet\n",
    "if modelName == \"fusegnet\":\n",
    "    fusegnet = FUSegNet(n_filters=n_filters, input_dim_x=input_dim_x, input_dim_y=input_dim_y, num_channels=3)\n",
    "    model, model_name = fusegnet.get_FUSegNet()\n",
    "    print(\"Modelo FUSegNet Carregado!\")"
   ]
  },
  {
   "cell_type": "code",
   "execution_count": 12,
   "id": "23d0f338",
   "metadata": {},
   "outputs": [],
   "source": [
    "# Configuracoes de treinamento\n",
    "batch_size = 2\n",
    "epochs = 150\n",
    "learning_rate = 1e-4\n",
    "loss = 'binary_crossentropy'"
   ]
  },
  {
   "cell_type": "code",
   "execution_count": 13,
   "id": "240c2bea",
   "metadata": {},
   "outputs": [
    {
     "name": "stdout",
     "output_type": "stream",
     "text": [
      "Não será Podado!\n"
     ]
    }
   ],
   "source": [
    "# Tecnica de poda\n",
    "if prune:\n",
    "    prune_low_magnitude = tfmot.sparsity.keras.prune_low_magnitude\n",
    "    \n",
    "    num_images = 810 * (1 - 0.2)\n",
    "    end_step = np.ceil(num_images / batch_size).astype(np.int32) * epochs\n",
    "    \n",
    "    pruning_params = {\n",
    "      'pruning_schedule': tfmot.sparsity.keras.PolynomialDecay(initial_sparsity=0.1, final_sparsity=0.90, begin_step=0, end_step=end_step)\n",
    "    }\n",
    "    \n",
    "    model_pruned = prune_low_magnitude(model, **pruning_params)\n",
    "    print(\"Poda aplicada ao modelo!\")\n",
    "else:\n",
    "    model_pruned = model\n",
    "    print('Não será Podado!')    "
   ]
  },
  {
   "cell_type": "code",
   "execution_count": 14,
   "id": "c699a9b8",
   "metadata": {},
   "outputs": [],
   "source": [
    "# Cria o txt do resumo do modelo\n",
    "def printmodelsummary(s):\n",
    "    with open(modelDirPath + modelName + 'Modelsummary.txt','a') as f:\n",
    "        print(s, file=f)\n",
    "\n",
    "# model_pruned.summary(print_fn=printmodelsummary)"
   ]
  },
  {
   "cell_type": "code",
   "execution_count": 15,
   "id": "6d2f5bff",
   "metadata": {},
   "outputs": [],
   "source": [
    "# callback\n",
    "if prune:\n",
    "    callbacks = [\n",
    "        EarlyStopping(monitor='val_dice_coef', patience=50, mode='max', restore_best_weights=True),\n",
    "        tfmot.sparsity.keras.UpdatePruningStep()\n",
    "    ]\n",
    "else:\n",
    "    callbacks = [\n",
    "        EarlyStopping(monitor='val_dice_coef', patience=50, mode='max', restore_best_weights=True)\n",
    "    ]"
   ]
  },
  {
   "cell_type": "code",
   "execution_count": 16,
   "id": "0e93734f",
   "metadata": {},
   "outputs": [
    {
     "name": "stdout",
     "output_type": "stream",
     "text": [
      "Epoch 1/150\n"
     ]
    },
    {
     "name": "stdout",
     "output_type": "stream",
     "text": [
      "\u001b[1m648/648\u001b[0m \u001b[32m━━━━━━━━━━━━━━━━━━━━\u001b[0m\u001b[37m\u001b[0m \u001b[1m584s\u001b[0m 891ms/step - dice_coef: 0.3718 - loss: 0.1789 - precision: 0.4514 - recall: 0.3905 - val_dice_coef: 0.6930 - val_loss: 0.0924 - val_precision: 0.7204 - val_recall: 0.7529\n",
      "Epoch 2/150\n",
      "\u001b[1m648/648\u001b[0m \u001b[32m━━━━━━━━━━━━━━━━━━━━\u001b[0m\u001b[37m\u001b[0m \u001b[1m595s\u001b[0m 919ms/step - dice_coef: 0.6594 - loss: 0.0768 - precision: 0.7152 - recall: 0.7174 - val_dice_coef: 0.7135 - val_loss: 0.0586 - val_precision: 0.7805 - val_recall: 0.7311\n",
      "Epoch 3/150\n",
      "\u001b[1m648/648\u001b[0m \u001b[32m━━━━━━━━━━━━━━━━━━━━\u001b[0m\u001b[37m\u001b[0m \u001b[1m578s\u001b[0m 892ms/step - dice_coef: 0.7106 - loss: 0.0473 - precision: 0.7507 - recall: 0.7562 - val_dice_coef: 0.7382 - val_loss: 0.0376 - val_precision: 0.8748 - val_recall: 0.6933\n",
      "Epoch 4/150\n",
      "\u001b[1m648/648\u001b[0m \u001b[32m━━━━━━━━━━━━━━━━━━━━\u001b[0m\u001b[37m\u001b[0m \u001b[1m587s\u001b[0m 905ms/step - dice_coef: 0.7497 - loss: 0.0318 - precision: 0.7832 - recall: 0.7850 - val_dice_coef: 0.7897 - val_loss: 0.0255 - val_precision: 0.8551 - val_recall: 0.7715\n",
      "Epoch 5/150\n",
      "\u001b[1m648/648\u001b[0m \u001b[32m━━━━━━━━━━━━━━━━━━━━\u001b[0m\u001b[37m\u001b[0m \u001b[1m626s\u001b[0m 967ms/step - dice_coef: 0.7724 - loss: 0.0235 - precision: 0.7992 - recall: 0.7994 - val_dice_coef: 0.7525 - val_loss: 0.0239 - val_precision: 0.8591 - val_recall: 0.7257\n",
      "Epoch 6/150\n",
      "\u001b[1m648/648\u001b[0m \u001b[32m━━━━━━━━━━━━━━━━━━━━\u001b[0m\u001b[37m\u001b[0m \u001b[1m621s\u001b[0m 958ms/step - dice_coef: 0.8028 - loss: 0.0175 - precision: 0.8227 - recall: 0.8316 - val_dice_coef: 0.7465 - val_loss: 0.0220 - val_precision: 0.8630 - val_recall: 0.7195\n",
      "Epoch 7/150\n",
      "\u001b[1m648/648\u001b[0m \u001b[32m━━━━━━━━━━━━━━━━━━━━\u001b[0m\u001b[37m\u001b[0m \u001b[1m690s\u001b[0m 1s/step - dice_coef: 0.8082 - loss: 0.0145 - precision: 0.8320 - recall: 0.8330 - val_dice_coef: 0.8227 - val_loss: 0.0140 - val_precision: 0.8410 - val_recall: 0.8377\n",
      "Epoch 8/150\n",
      "\u001b[1m648/648\u001b[0m \u001b[32m━━━━━━━━━━━━━━━━━━━━\u001b[0m\u001b[37m\u001b[0m \u001b[1m604s\u001b[0m 932ms/step - dice_coef: 0.8077 - loss: 0.0126 - precision: 0.8299 - recall: 0.8345 - val_dice_coef: 0.8134 - val_loss: 0.0160 - val_precision: 0.8842 - val_recall: 0.7895\n",
      "Epoch 9/150\n",
      "\u001b[1m648/648\u001b[0m \u001b[32m━━━━━━━━━━━━━━━━━━━━\u001b[0m\u001b[37m\u001b[0m \u001b[1m584s\u001b[0m 900ms/step - dice_coef: 0.8379 - loss: 0.0100 - precision: 0.8539 - recall: 0.8557 - val_dice_coef: 0.8166 - val_loss: 0.0154 - val_precision: 0.8826 - val_recall: 0.7977\n",
      "Epoch 10/150\n",
      "\u001b[1m648/648\u001b[0m \u001b[32m━━━━━━━━━━━━━━━━━━━━\u001b[0m\u001b[37m\u001b[0m \u001b[1m556s\u001b[0m 859ms/step - dice_coef: 0.8562 - loss: 0.0082 - precision: 0.8705 - recall: 0.8679 - val_dice_coef: 0.8135 - val_loss: 0.0152 - val_precision: 0.8992 - val_recall: 0.7846\n",
      "Epoch 11/150\n",
      "\u001b[1m648/648\u001b[0m \u001b[32m━━━━━━━━━━━━━━━━━━━━\u001b[0m\u001b[37m\u001b[0m \u001b[1m525s\u001b[0m 810ms/step - dice_coef: 0.8687 - loss: 0.0073 - precision: 0.8829 - recall: 0.8738 - val_dice_coef: 0.7909 - val_loss: 0.0184 - val_precision: 0.9050 - val_recall: 0.7430\n",
      "Epoch 12/150\n",
      "\u001b[1m648/648\u001b[0m \u001b[32m━━━━━━━━━━━━━━━━━━━━\u001b[0m\u001b[37m\u001b[0m \u001b[1m617s\u001b[0m 952ms/step - dice_coef: 0.8628 - loss: 0.0070 - precision: 0.8788 - recall: 0.8639 - val_dice_coef: 0.8285 - val_loss: 0.0142 - val_precision: 0.8957 - val_recall: 0.8063\n",
      "Epoch 13/150\n",
      "\u001b[1m648/648\u001b[0m \u001b[32m━━━━━━━━━━━━━━━━━━━━\u001b[0m\u001b[37m\u001b[0m \u001b[1m629s\u001b[0m 971ms/step - dice_coef: 0.8741 - loss: 0.0062 - precision: 0.8865 - recall: 0.8821 - val_dice_coef: 0.8238 - val_loss: 0.0130 - val_precision: 0.8721 - val_recall: 0.8147\n",
      "Epoch 14/150\n",
      "\u001b[1m648/648\u001b[0m \u001b[32m━━━━━━━━━━━━━━━━━━━━\u001b[0m\u001b[37m\u001b[0m \u001b[1m788s\u001b[0m 1s/step - dice_coef: 0.8727 - loss: 0.0065 - precision: 0.8873 - recall: 0.8768 - val_dice_coef: 0.8079 - val_loss: 0.0160 - val_precision: 0.8795 - val_recall: 0.7882\n",
      "Epoch 15/150\n",
      "\u001b[1m648/648\u001b[0m \u001b[32m━━━━━━━━━━━━━━━━━━━━\u001b[0m\u001b[37m\u001b[0m \u001b[1m697s\u001b[0m 1s/step - dice_coef: 0.8841 - loss: 0.0055 - precision: 0.8994 - recall: 0.8845 - val_dice_coef: 0.8480 - val_loss: 0.0102 - val_precision: 0.8968 - val_recall: 0.8334\n",
      "Epoch 16/150\n",
      "\u001b[1m648/648\u001b[0m \u001b[32m━━━━━━━━━━━━━━━━━━━━\u001b[0m\u001b[37m\u001b[0m \u001b[1m699s\u001b[0m 1s/step - dice_coef: 0.8990 - loss: 0.0046 - precision: 0.9152 - recall: 0.8954 - val_dice_coef: 0.8433 - val_loss: 0.0111 - val_precision: 0.9035 - val_recall: 0.8230\n",
      "Epoch 17/150\n",
      "\u001b[1m648/648\u001b[0m \u001b[32m━━━━━━━━━━━━━━━━━━━━\u001b[0m\u001b[37m\u001b[0m \u001b[1m715s\u001b[0m 1s/step - dice_coef: 0.8896 - loss: 0.0053 - precision: 0.9099 - recall: 0.8864 - val_dice_coef: 0.7828 - val_loss: 0.0190 - val_precision: 0.8837 - val_recall: 0.7508\n",
      "Epoch 18/150\n",
      "\u001b[1m648/648\u001b[0m \u001b[32m━━━━━━━━━━━━━━━━━━━━\u001b[0m\u001b[37m\u001b[0m \u001b[1m670s\u001b[0m 1s/step - dice_coef: 0.8822 - loss: 0.0054 - precision: 0.9020 - recall: 0.8825 - val_dice_coef: 0.8485 - val_loss: 0.0105 - val_precision: 0.9018 - val_recall: 0.8271\n",
      "Epoch 19/150\n",
      "\u001b[1m648/648\u001b[0m \u001b[32m━━━━━━━━━━━━━━━━━━━━\u001b[0m\u001b[37m\u001b[0m \u001b[1m682s\u001b[0m 1s/step - dice_coef: 0.9115 - loss: 0.0040 - precision: 0.9256 - recall: 0.9067 - val_dice_coef: 0.8468 - val_loss: 0.0111 - val_precision: 0.9019 - val_recall: 0.8268\n",
      "Epoch 20/150\n",
      "\u001b[1m648/648\u001b[0m \u001b[32m━━━━━━━━━━━━━━━━━━━━\u001b[0m\u001b[37m\u001b[0m \u001b[1m672s\u001b[0m 1s/step - dice_coef: 0.9142 - loss: 0.0037 - precision: 0.9314 - recall: 0.9083 - val_dice_coef: 0.8445 - val_loss: 0.0118 - val_precision: 0.9107 - val_recall: 0.8175\n",
      "Epoch 21/150\n",
      "\u001b[1m648/648\u001b[0m \u001b[32m━━━━━━━━━━━━━━━━━━━━\u001b[0m\u001b[37m\u001b[0m \u001b[1m678s\u001b[0m 1s/step - dice_coef: 0.9128 - loss: 0.0037 - precision: 0.9337 - recall: 0.9052 - val_dice_coef: 0.6251 - val_loss: 0.0247 - val_precision: 0.6194 - val_recall: 0.6894\n",
      "Epoch 22/150\n",
      "\u001b[1m648/648\u001b[0m \u001b[32m━━━━━━━━━━━━━━━━━━━━\u001b[0m\u001b[37m\u001b[0m \u001b[1m672s\u001b[0m 1s/step - dice_coef: 0.8370 - loss: 0.0080 - precision: 0.8749 - recall: 0.8365 - val_dice_coef: 0.8545 - val_loss: 0.0098 - val_precision: 0.8702 - val_recall: 0.8616\n",
      "Epoch 23/150\n",
      "\u001b[1m648/648\u001b[0m \u001b[32m━━━━━━━━━━━━━━━━━━━━\u001b[0m\u001b[37m\u001b[0m \u001b[1m658s\u001b[0m 1s/step - dice_coef: 0.8947 - loss: 0.0046 - precision: 0.9135 - recall: 0.8941 - val_dice_coef: 0.8551 - val_loss: 0.0118 - val_precision: 0.8871 - val_recall: 0.8527\n",
      "Epoch 24/150\n",
      "\u001b[1m648/648\u001b[0m \u001b[32m━━━━━━━━━━━━━━━━━━━━\u001b[0m\u001b[37m\u001b[0m \u001b[1m624s\u001b[0m 964ms/step - dice_coef: 0.9184 - loss: 0.0034 - precision: 0.9378 - recall: 0.9111 - val_dice_coef: 0.8495 - val_loss: 0.0123 - val_precision: 0.9241 - val_recall: 0.8101\n",
      "Epoch 25/150\n",
      "\u001b[1m648/648\u001b[0m \u001b[32m━━━━━━━━━━━━━━━━━━━━\u001b[0m\u001b[37m\u001b[0m \u001b[1m656s\u001b[0m 1s/step - dice_coef: 0.9267 - loss: 0.0030 - precision: 0.9450 - recall: 0.9187 - val_dice_coef: 0.8409 - val_loss: 0.0147 - val_precision: 0.9079 - val_recall: 0.8138\n",
      "Epoch 26/150\n",
      "\u001b[1m648/648\u001b[0m \u001b[32m━━━━━━━━━━━━━━━━━━━━\u001b[0m\u001b[37m\u001b[0m \u001b[1m660s\u001b[0m 1s/step - dice_coef: 0.9251 - loss: 0.0031 - precision: 0.9419 - recall: 0.9177 - val_dice_coef: 0.8593 - val_loss: 0.0114 - val_precision: 0.9000 - val_recall: 0.8453\n",
      "Epoch 27/150\n",
      "\u001b[1m648/648\u001b[0m \u001b[32m━━━━━━━━━━━━━━━━━━━━\u001b[0m\u001b[37m\u001b[0m \u001b[1m657s\u001b[0m 1s/step - dice_coef: 0.9113 - loss: 0.0035 - precision: 0.9360 - recall: 0.9018 - val_dice_coef: 0.8139 - val_loss: 0.0158 - val_precision: 0.8738 - val_recall: 0.8016\n",
      "Epoch 28/150\n",
      "\u001b[1m648/648\u001b[0m \u001b[32m━━━━━━━━━━━━━━━━━━━━\u001b[0m\u001b[37m\u001b[0m \u001b[1m653s\u001b[0m 1s/step - dice_coef: 0.8913 - loss: 0.0046 - precision: 0.9164 - recall: 0.8862 - val_dice_coef: 0.8480 - val_loss: 0.0125 - val_precision: 0.8960 - val_recall: 0.8355\n",
      "Epoch 29/150\n",
      "\u001b[1m648/648\u001b[0m \u001b[32m━━━━━━━━━━━━━━━━━━━━\u001b[0m\u001b[37m\u001b[0m \u001b[1m614s\u001b[0m 948ms/step - dice_coef: 0.9259 - loss: 0.0030 - precision: 0.9416 - recall: 0.9196 - val_dice_coef: 0.8546 - val_loss: 0.0118 - val_precision: 0.9092 - val_recall: 0.8319\n",
      "Epoch 30/150\n",
      "\u001b[1m648/648\u001b[0m \u001b[32m━━━━━━━━━━━━━━━━━━━━\u001b[0m\u001b[37m\u001b[0m \u001b[1m612s\u001b[0m 944ms/step - dice_coef: 0.9337 - loss: 0.0027 - precision: 0.9523 - recall: 0.9230 - val_dice_coef: 0.8448 - val_loss: 0.0139 - val_precision: 0.9143 - val_recall: 0.8134\n",
      "Epoch 31/150\n",
      "\u001b[1m648/648\u001b[0m \u001b[32m━━━━━━━━━━━━━━━━━━━━\u001b[0m\u001b[37m\u001b[0m \u001b[1m572s\u001b[0m 883ms/step - dice_coef: 0.9367 - loss: 0.0026 - precision: 0.9545 - recall: 0.9272 - val_dice_coef: 0.8500 - val_loss: 0.0120 - val_precision: 0.9072 - val_recall: 0.8283\n",
      "Epoch 32/150\n",
      "\u001b[1m648/648\u001b[0m \u001b[32m━━━━━━━━━━━━━━━━━━━━\u001b[0m\u001b[37m\u001b[0m \u001b[1m577s\u001b[0m 891ms/step - dice_coef: 0.9346 - loss: 0.0027 - precision: 0.9517 - recall: 0.9249 - val_dice_coef: 0.6833 - val_loss: 0.0347 - val_precision: 0.9097 - val_recall: 0.6032\n",
      "Epoch 33/150\n",
      "\u001b[1m648/648\u001b[0m \u001b[32m━━━━━━━━━━━━━━━━━━━━\u001b[0m\u001b[37m\u001b[0m \u001b[1m605s\u001b[0m 933ms/step - dice_coef: 0.8363 - loss: 0.0078 - precision: 0.8804 - recall: 0.8406 - val_dice_coef: 0.8500 - val_loss: 0.0120 - val_precision: 0.9071 - val_recall: 0.8280\n",
      "Epoch 34/150\n",
      "\u001b[1m648/648\u001b[0m \u001b[32m━━━━━━━━━━━━━━━━━━━━\u001b[0m\u001b[37m\u001b[0m \u001b[1m653s\u001b[0m 1s/step - dice_coef: 0.9288 - loss: 0.0030 - precision: 0.9445 - recall: 0.9226 - val_dice_coef: 0.8557 - val_loss: 0.0128 - val_precision: 0.9004 - val_recall: 0.8421\n",
      "Epoch 35/150\n",
      "\u001b[1m648/648\u001b[0m \u001b[32m━━━━━━━━━━━━━━━━━━━━\u001b[0m\u001b[37m\u001b[0m \u001b[1m639s\u001b[0m 986ms/step - dice_coef: 0.9389 - loss: 0.0025 - precision: 0.9552 - recall: 0.9312 - val_dice_coef: 0.8544 - val_loss: 0.0136 - val_precision: 0.8984 - val_recall: 0.8429\n",
      "Epoch 36/150\n",
      "\u001b[1m648/648\u001b[0m \u001b[32m━━━━━━━━━━━━━━━━━━━━\u001b[0m\u001b[37m\u001b[0m \u001b[1m617s\u001b[0m 952ms/step - dice_coef: 0.9428 - loss: 0.0023 - precision: 0.9593 - recall: 0.9338 - val_dice_coef: 0.8566 - val_loss: 0.0128 - val_precision: 0.9135 - val_recall: 0.8328\n",
      "Epoch 37/150\n",
      "\u001b[1m648/648\u001b[0m \u001b[32m━━━━━━━━━━━━━━━━━━━━\u001b[0m\u001b[37m\u001b[0m \u001b[1m589s\u001b[0m 909ms/step - dice_coef: 0.9421 - loss: 0.0023 - precision: 0.9578 - recall: 0.9356 - val_dice_coef: 0.8631 - val_loss: 0.0118 - val_precision: 0.8981 - val_recall: 0.8504\n",
      "Epoch 38/150\n",
      "\u001b[1m648/648\u001b[0m \u001b[32m━━━━━━━━━━━━━━━━━━━━\u001b[0m\u001b[37m\u001b[0m \u001b[1m579s\u001b[0m 894ms/step - dice_coef: 0.9364 - loss: 0.0025 - precision: 0.9533 - recall: 0.9278 - val_dice_coef: 0.8585 - val_loss: 0.0132 - val_precision: 0.9066 - val_recall: 0.8411\n",
      "Epoch 39/150\n",
      "\u001b[1m648/648\u001b[0m \u001b[32m━━━━━━━━━━━━━━━━━━━━\u001b[0m\u001b[37m\u001b[0m \u001b[1m566s\u001b[0m 873ms/step - dice_coef: 0.9341 - loss: 0.0026 - precision: 0.9507 - recall: 0.9275 - val_dice_coef: 0.8652 - val_loss: 0.0113 - val_precision: 0.9037 - val_recall: 0.8495\n",
      "Epoch 40/150\n",
      "\u001b[1m648/648\u001b[0m \u001b[32m━━━━━━━━━━━━━━━━━━━━\u001b[0m\u001b[37m\u001b[0m \u001b[1m528s\u001b[0m 815ms/step - dice_coef: 0.9245 - loss: 0.0033 - precision: 0.9448 - recall: 0.9162 - val_dice_coef: 0.8030 - val_loss: 0.0171 - val_precision: 0.9102 - val_recall: 0.7624\n",
      "Epoch 41/150\n",
      "\u001b[1m648/648\u001b[0m \u001b[32m━━━━━━━━━━━━━━━━━━━━\u001b[0m\u001b[37m\u001b[0m \u001b[1m527s\u001b[0m 813ms/step - dice_coef: 0.9264 - loss: 0.0030 - precision: 0.9442 - recall: 0.9204 - val_dice_coef: 0.8565 - val_loss: 0.0121 - val_precision: 0.9150 - val_recall: 0.8285\n",
      "Epoch 42/150\n",
      "\u001b[1m648/648\u001b[0m \u001b[32m━━━━━━━━━━━━━━━━━━━━\u001b[0m\u001b[37m\u001b[0m \u001b[1m529s\u001b[0m 817ms/step - dice_coef: 0.9439 - loss: 0.0022 - precision: 0.9581 - recall: 0.9370 - val_dice_coef: 0.8585 - val_loss: 0.0129 - val_precision: 0.9160 - val_recall: 0.8307\n",
      "Epoch 43/150\n",
      "\u001b[1m648/648\u001b[0m \u001b[32m━━━━━━━━━━━━━━━━━━━━\u001b[0m\u001b[37m\u001b[0m \u001b[1m573s\u001b[0m 884ms/step - dice_coef: 0.9484 - loss: 0.0020 - precision: 0.9641 - recall: 0.9403 - val_dice_coef: 0.8563 - val_loss: 0.0139 - val_precision: 0.9225 - val_recall: 0.8238\n",
      "Epoch 44/150\n",
      "\u001b[1m648/648\u001b[0m \u001b[32m━━━━━━━━━━━━━━━━━━━━\u001b[0m\u001b[37m\u001b[0m \u001b[1m535s\u001b[0m 826ms/step - dice_coef: 0.9507 - loss: 0.0019 - precision: 0.9670 - recall: 0.9424 - val_dice_coef: 0.8540 - val_loss: 0.0137 - val_precision: 0.9240 - val_recall: 0.8188\n",
      "Epoch 45/150\n",
      "\u001b[1m648/648\u001b[0m \u001b[32m━━━━━━━━━━━━━━━━━━━━\u001b[0m\u001b[37m\u001b[0m \u001b[1m533s\u001b[0m 823ms/step - dice_coef: 0.9468 - loss: 0.0021 - precision: 0.9641 - recall: 0.9382 - val_dice_coef: 0.8603 - val_loss: 0.0117 - val_precision: 0.8929 - val_recall: 0.8554\n",
      "Epoch 46/150\n",
      "\u001b[1m648/648\u001b[0m \u001b[32m━━━━━━━━━━━━━━━━━━━━\u001b[0m\u001b[37m\u001b[0m \u001b[1m576s\u001b[0m 889ms/step - dice_coef: 0.9426 - loss: 0.0023 - precision: 0.9591 - recall: 0.9348 - val_dice_coef: 0.8225 - val_loss: 0.0194 - val_precision: 0.8657 - val_recall: 0.8217\n",
      "Epoch 47/150\n",
      "\u001b[1m648/648\u001b[0m \u001b[32m━━━━━━━━━━━━━━━━━━━━\u001b[0m\u001b[37m\u001b[0m \u001b[1m612s\u001b[0m 945ms/step - dice_coef: 0.8716 - loss: 0.0068 - precision: 0.8986 - recall: 0.8744 - val_dice_coef: 0.8589 - val_loss: 0.0104 - val_precision: 0.9009 - val_recall: 0.8418\n",
      "Epoch 48/150\n",
      "\u001b[1m648/648\u001b[0m \u001b[32m━━━━━━━━━━━━━━━━━━━━\u001b[0m\u001b[37m\u001b[0m \u001b[1m708s\u001b[0m 1s/step - dice_coef: 0.9409 - loss: 0.0024 - precision: 0.9581 - recall: 0.9313 - val_dice_coef: 0.8632 - val_loss: 0.0109 - val_precision: 0.9037 - val_recall: 0.8472\n",
      "Epoch 49/150\n",
      "\u001b[1m648/648\u001b[0m \u001b[32m━━━━━━━━━━━━━━━━━━━━\u001b[0m\u001b[37m\u001b[0m \u001b[1m726s\u001b[0m 1s/step - dice_coef: 0.9494 - loss: 0.0020 - precision: 0.9658 - recall: 0.9412 - val_dice_coef: 0.8573 - val_loss: 0.0130 - val_precision: 0.9049 - val_recall: 0.8389\n",
      "Epoch 50/150\n",
      "\u001b[1m648/648\u001b[0m \u001b[32m━━━━━━━━━━━━━━━━━━━━\u001b[0m\u001b[37m\u001b[0m \u001b[1m732s\u001b[0m 1s/step - dice_coef: 0.9537 - loss: 0.0018 - precision: 0.9695 - recall: 0.9460 - val_dice_coef: 0.8557 - val_loss: 0.0136 - val_precision: 0.9090 - val_recall: 0.8337\n",
      "Epoch 51/150\n",
      "\u001b[1m648/648\u001b[0m \u001b[32m━━━━━━━━━━━━━━━━━━━━\u001b[0m\u001b[37m\u001b[0m \u001b[1m673s\u001b[0m 1s/step - dice_coef: 0.9554 - loss: 0.0018 - precision: 0.9713 - recall: 0.9482 - val_dice_coef: 0.8538 - val_loss: 0.0139 - val_precision: 0.9038 - val_recall: 0.8363\n",
      "Epoch 52/150\n",
      "\u001b[1m648/648\u001b[0m \u001b[32m━━━━━━━━━━━━━━━━━━━━\u001b[0m\u001b[37m\u001b[0m \u001b[1m686s\u001b[0m 1s/step - dice_coef: 0.9531 - loss: 0.0018 - precision: 0.9683 - recall: 0.9465 - val_dice_coef: 0.8366 - val_loss: 0.0168 - val_precision: 0.9163 - val_recall: 0.8021\n",
      "Epoch 53/150\n",
      "\u001b[1m648/648\u001b[0m \u001b[32m━━━━━━━━━━━━━━━━━━━━\u001b[0m\u001b[37m\u001b[0m \u001b[1m692s\u001b[0m 1s/step - dice_coef: 0.9477 - loss: 0.0021 - precision: 0.9631 - recall: 0.9407 - val_dice_coef: 0.8390 - val_loss: 0.0175 - val_precision: 0.9221 - val_recall: 0.8000\n",
      "Epoch 54/150\n",
      "\u001b[1m648/648\u001b[0m \u001b[32m━━━━━━━━━━━━━━━━━━━━\u001b[0m\u001b[37m\u001b[0m \u001b[1m747s\u001b[0m 1s/step - dice_coef: 0.9465 - loss: 0.0022 - precision: 0.9625 - recall: 0.9388 - val_dice_coef: 0.8580 - val_loss: 0.0124 - val_precision: 0.8967 - val_recall: 0.8423\n",
      "Epoch 55/150\n",
      "\u001b[1m648/648\u001b[0m \u001b[32m━━━━━━━━━━━━━━━━━━━━\u001b[0m\u001b[37m\u001b[0m \u001b[1m786s\u001b[0m 1s/step - dice_coef: 0.9466 - loss: 0.0020 - precision: 0.9650 - recall: 0.9382 - val_dice_coef: 0.8628 - val_loss: 0.0132 - val_precision: 0.9020 - val_recall: 0.8497\n",
      "Epoch 56/150\n",
      "\u001b[1m648/648\u001b[0m \u001b[32m━━━━━━━━━━━━━━━━━━━━\u001b[0m\u001b[37m\u001b[0m \u001b[1m740s\u001b[0m 1s/step - dice_coef: 0.9371 - loss: 0.0028 - precision: 0.9552 - recall: 0.9326 - val_dice_coef: 0.8556 - val_loss: 0.0112 - val_precision: 0.8896 - val_recall: 0.8486\n",
      "Epoch 57/150\n",
      "\u001b[1m648/648\u001b[0m \u001b[32m━━━━━━━━━━━━━━━━━━━━\u001b[0m\u001b[37m\u001b[0m \u001b[1m713s\u001b[0m 1s/step - dice_coef: 0.9415 - loss: 0.0023 - precision: 0.9564 - recall: 0.9352 - val_dice_coef: 0.8603 - val_loss: 0.0117 - val_precision: 0.9121 - val_recall: 0.8372\n",
      "Epoch 58/150\n",
      "\u001b[1m648/648\u001b[0m \u001b[32m━━━━━━━━━━━━━━━━━━━━\u001b[0m\u001b[37m\u001b[0m \u001b[1m707s\u001b[0m 1s/step - dice_coef: 0.9540 - loss: 0.0018 - precision: 0.9705 - recall: 0.9462 - val_dice_coef: 0.8588 - val_loss: 0.0126 - val_precision: 0.9106 - val_recall: 0.8361\n",
      "Epoch 59/150\n",
      "\u001b[1m648/648\u001b[0m \u001b[32m━━━━━━━━━━━━━━━━━━━━\u001b[0m\u001b[37m\u001b[0m \u001b[1m741s\u001b[0m 1s/step - dice_coef: 0.9582 - loss: 0.0017 - precision: 0.9739 - recall: 0.9507 - val_dice_coef: 0.8531 - val_loss: 0.0140 - val_precision: 0.9139 - val_recall: 0.8258\n",
      "Epoch 60/150\n",
      "\u001b[1m648/648\u001b[0m \u001b[32m━━━━━━━━━━━━━━━━━━━━\u001b[0m\u001b[37m\u001b[0m \u001b[1m764s\u001b[0m 1s/step - dice_coef: 0.9599 - loss: 0.0016 - precision: 0.9755 - recall: 0.9531 - val_dice_coef: 0.8586 - val_loss: 0.0136 - val_precision: 0.9115 - val_recall: 0.8362\n",
      "Epoch 61/150\n",
      "\u001b[1m648/648\u001b[0m \u001b[32m━━━━━━━━━━━━━━━━━━━━\u001b[0m\u001b[37m\u001b[0m \u001b[1m664s\u001b[0m 1s/step - dice_coef: 0.9585 - loss: 0.0016 - precision: 0.9738 - recall: 0.9515 - val_dice_coef: 0.8536 - val_loss: 0.0140 - val_precision: 0.9067 - val_recall: 0.8302\n",
      "Epoch 62/150\n",
      "\u001b[1m648/648\u001b[0m \u001b[32m━━━━━━━━━━━━━━━━━━━━\u001b[0m\u001b[37m\u001b[0m \u001b[1m593s\u001b[0m 915ms/step - dice_coef: 0.9534 - loss: 0.0019 - precision: 0.9678 - recall: 0.9478 - val_dice_coef: 0.8629 - val_loss: 0.0124 - val_precision: 0.8899 - val_recall: 0.8571\n",
      "Epoch 63/150\n",
      "\u001b[1m648/648\u001b[0m \u001b[32m━━━━━━━━━━━━━━━━━━━━\u001b[0m\u001b[37m\u001b[0m \u001b[1m523s\u001b[0m 807ms/step - dice_coef: 0.9064 - loss: 0.0041 - precision: 0.9310 - recall: 0.9024 - val_dice_coef: 0.8487 - val_loss: 0.0133 - val_precision: 0.9122 - val_recall: 0.8229\n",
      "Epoch 64/150\n",
      "\u001b[1m648/648\u001b[0m \u001b[32m━━━━━━━━━━━━━━━━━━━━\u001b[0m\u001b[37m\u001b[0m \u001b[1m511s\u001b[0m 789ms/step - dice_coef: 0.9252 - loss: 0.0035 - precision: 0.9422 - recall: 0.9216 - val_dice_coef: 0.8518 - val_loss: 0.0129 - val_precision: 0.9021 - val_recall: 0.8340\n",
      "Epoch 65/150\n",
      "\u001b[1m648/648\u001b[0m \u001b[32m━━━━━━━━━━━━━━━━━━━━\u001b[0m\u001b[37m\u001b[0m \u001b[1m530s\u001b[0m 818ms/step - dice_coef: 0.9525 - loss: 0.0019 - precision: 0.9680 - recall: 0.9453 - val_dice_coef: 0.8533 - val_loss: 0.0139 - val_precision: 0.9007 - val_recall: 0.8373\n",
      "Epoch 66/150\n",
      "\u001b[1m648/648\u001b[0m \u001b[32m━━━━━━━━━━━━━━━━━━━━\u001b[0m\u001b[37m\u001b[0m \u001b[1m556s\u001b[0m 857ms/step - dice_coef: 0.9580 - loss: 0.0016 - precision: 0.9738 - recall: 0.9507 - val_dice_coef: 0.8539 - val_loss: 0.0143 - val_precision: 0.9029 - val_recall: 0.8370\n",
      "Epoch 67/150\n",
      "\u001b[1m648/648\u001b[0m \u001b[32m━━━━━━━━━━━━━━━━━━━━\u001b[0m\u001b[37m\u001b[0m \u001b[1m573s\u001b[0m 885ms/step - dice_coef: 0.9613 - loss: 0.0015 - precision: 0.9770 - recall: 0.9541 - val_dice_coef: 0.8530 - val_loss: 0.0147 - val_precision: 0.9027 - val_recall: 0.8360\n",
      "Epoch 68/150\n",
      "\u001b[1m648/648\u001b[0m \u001b[32m━━━━━━━━━━━━━━━━━━━━\u001b[0m\u001b[37m\u001b[0m \u001b[1m579s\u001b[0m 894ms/step - dice_coef: 0.9629 - loss: 0.0015 - precision: 0.9785 - recall: 0.9563 - val_dice_coef: 0.8471 - val_loss: 0.0158 - val_precision: 0.9042 - val_recall: 0.8255\n",
      "Epoch 69/150\n",
      "\u001b[1m648/648\u001b[0m \u001b[32m━━━━━━━━━━━━━━━━━━━━\u001b[0m\u001b[37m\u001b[0m \u001b[1m597s\u001b[0m 922ms/step - dice_coef: 0.9623 - loss: 0.0015 - precision: 0.9775 - recall: 0.9569 - val_dice_coef: 0.8538 - val_loss: 0.0143 - val_precision: 0.8967 - val_recall: 0.8413\n",
      "Epoch 70/150\n",
      "\u001b[1m648/648\u001b[0m \u001b[32m━━━━━━━━━━━━━━━━━━━━\u001b[0m\u001b[37m\u001b[0m \u001b[1m595s\u001b[0m 919ms/step - dice_coef: 0.9548 - loss: 0.0017 - precision: 0.9705 - recall: 0.9484 - val_dice_coef: 0.8522 - val_loss: 0.0155 - val_precision: 0.9125 - val_recall: 0.8292\n",
      "Epoch 71/150\n",
      "\u001b[1m648/648\u001b[0m \u001b[32m━━━━━━━━━━━━━━━━━━━━\u001b[0m\u001b[37m\u001b[0m \u001b[1m563s\u001b[0m 869ms/step - dice_coef: 0.9539 - loss: 0.0018 - precision: 0.9686 - recall: 0.9478 - val_dice_coef: 0.8423 - val_loss: 0.0182 - val_precision: 0.9302 - val_recall: 0.7987\n",
      "Epoch 72/150\n",
      "\u001b[1m648/648\u001b[0m \u001b[32m━━━━━━━━━━━━━━━━━━━━\u001b[0m\u001b[37m\u001b[0m \u001b[1m541s\u001b[0m 835ms/step - dice_coef: 0.9487 - loss: 0.0021 - precision: 0.9645 - recall: 0.9436 - val_dice_coef: 0.8327 - val_loss: 0.0126 - val_precision: 0.8553 - val_recall: 0.8446\n",
      "Epoch 73/150\n",
      "\u001b[1m648/648\u001b[0m \u001b[32m━━━━━━━━━━━━━━━━━━━━\u001b[0m\u001b[37m\u001b[0m \u001b[1m542s\u001b[0m 836ms/step - dice_coef: 0.9289 - loss: 0.0028 - precision: 0.9482 - recall: 0.9201 - val_dice_coef: 0.8537 - val_loss: 0.0138 - val_precision: 0.9047 - val_recall: 0.8331\n",
      "Epoch 74/150\n",
      "\u001b[1m648/648\u001b[0m \u001b[32m━━━━━━━━━━━━━━━━━━━━\u001b[0m\u001b[37m\u001b[0m \u001b[1m570s\u001b[0m 879ms/step - dice_coef: 0.9557 - loss: 0.0017 - precision: 0.9734 - recall: 0.9469 - val_dice_coef: 0.8546 - val_loss: 0.0142 - val_precision: 0.9039 - val_recall: 0.8355\n",
      "Epoch 75/150\n",
      "\u001b[1m648/648\u001b[0m \u001b[32m━━━━━━━━━━━━━━━━━━━━\u001b[0m\u001b[37m\u001b[0m \u001b[1m553s\u001b[0m 854ms/step - dice_coef: 0.9606 - loss: 0.0015 - precision: 0.9777 - recall: 0.9528 - val_dice_coef: 0.8518 - val_loss: 0.0151 - val_precision: 0.9025 - val_recall: 0.8323\n",
      "Epoch 76/150\n",
      "\u001b[1m648/648\u001b[0m \u001b[32m━━━━━━━━━━━━━━━━━━━━\u001b[0m\u001b[37m\u001b[0m \u001b[1m560s\u001b[0m 864ms/step - dice_coef: 0.9636 - loss: 0.0014 - precision: 0.9796 - recall: 0.9572 - val_dice_coef: 0.8537 - val_loss: 0.0155 - val_precision: 0.9030 - val_recall: 0.8356\n",
      "Epoch 77/150\n",
      "\u001b[1m648/648\u001b[0m \u001b[32m━━━━━━━━━━━━━━━━━━━━\u001b[0m\u001b[37m\u001b[0m \u001b[1m533s\u001b[0m 822ms/step - dice_coef: 0.9649 - loss: 0.0014 - precision: 0.9807 - recall: 0.9589 - val_dice_coef: 0.8560 - val_loss: 0.0147 - val_precision: 0.8986 - val_recall: 0.8423\n",
      "Epoch 78/150\n",
      "\u001b[1m648/648\u001b[0m \u001b[32m━━━━━━━━━━━━━━━━━━━━\u001b[0m\u001b[37m\u001b[0m \u001b[1m540s\u001b[0m 834ms/step - dice_coef: 0.9640 - loss: 0.0014 - precision: 0.9790 - recall: 0.9585 - val_dice_coef: 0.8515 - val_loss: 0.0157 - val_precision: 0.8969 - val_recall: 0.8366\n",
      "Epoch 79/150\n",
      "\u001b[1m648/648\u001b[0m \u001b[32m━━━━━━━━━━━━━━━━━━━━\u001b[0m\u001b[37m\u001b[0m \u001b[1m557s\u001b[0m 860ms/step - dice_coef: 0.9578 - loss: 0.0017 - precision: 0.9728 - recall: 0.9518 - val_dice_coef: 0.8642 - val_loss: 0.0134 - val_precision: 0.8932 - val_recall: 0.8580\n",
      "Epoch 80/150\n",
      "\u001b[1m648/648\u001b[0m \u001b[32m━━━━━━━━━━━━━━━━━━━━\u001b[0m\u001b[37m\u001b[0m \u001b[1m626s\u001b[0m 966ms/step - dice_coef: 0.9557 - loss: 0.0017 - precision: 0.9715 - recall: 0.9495 - val_dice_coef: 0.8589 - val_loss: 0.0139 - val_precision: 0.9020 - val_recall: 0.8435\n",
      "Epoch 81/150\n",
      "\u001b[1m648/648\u001b[0m \u001b[32m━━━━━━━━━━━━━━━━━━━━\u001b[0m\u001b[37m\u001b[0m \u001b[1m640s\u001b[0m 988ms/step - dice_coef: 0.9574 - loss: 0.0016 - precision: 0.9744 - recall: 0.9497 - val_dice_coef: 0.8564 - val_loss: 0.0151 - val_precision: 0.8871 - val_recall: 0.8519\n",
      "Epoch 82/150\n",
      "\u001b[1m648/648\u001b[0m \u001b[32m━━━━━━━━━━━━━━━━━━━━\u001b[0m\u001b[37m\u001b[0m \u001b[1m788s\u001b[0m 1s/step - dice_coef: 0.9583 - loss: 0.0016 - precision: 0.9714 - recall: 0.9552 - val_dice_coef: 0.8568 - val_loss: 0.0143 - val_precision: 0.8994 - val_recall: 0.8440\n",
      "Epoch 83/150\n",
      "\u001b[1m648/648\u001b[0m \u001b[32m━━━━━━━━━━━━━━━━━━━━\u001b[0m\u001b[37m\u001b[0m \u001b[1m734s\u001b[0m 1s/step - dice_coef: 0.9588 - loss: 0.0016 - precision: 0.9753 - recall: 0.9515 - val_dice_coef: 0.8465 - val_loss: 0.0165 - val_precision: 0.8991 - val_recall: 0.8303\n",
      "Epoch 84/150\n",
      "\u001b[1m648/648\u001b[0m \u001b[32m━━━━━━━━━━━━━━━━━━━━\u001b[0m\u001b[37m\u001b[0m \u001b[1m725s\u001b[0m 1s/step - dice_coef: 0.9577 - loss: 0.0016 - precision: 0.9744 - recall: 0.9500 - val_dice_coef: 0.8646 - val_loss: 0.0135 - val_precision: 0.8804 - val_recall: 0.8715\n",
      "Epoch 85/150\n",
      "\u001b[1m648/648\u001b[0m \u001b[32m━━━━━━━━━━━━━━━━━━━━\u001b[0m\u001b[37m\u001b[0m \u001b[1m809s\u001b[0m 1s/step - dice_coef: 0.9592 - loss: 0.0016 - precision: 0.9736 - recall: 0.9542 - val_dice_coef: 0.8527 - val_loss: 0.0160 - val_precision: 0.9137 - val_recall: 0.8235\n",
      "Epoch 86/150\n",
      "\u001b[1m648/648\u001b[0m \u001b[32m━━━━━━━━━━━━━━━━━━━━\u001b[0m\u001b[37m\u001b[0m \u001b[1m761s\u001b[0m 1s/step - dice_coef: 0.9600 - loss: 0.0016 - precision: 0.9751 - recall: 0.9549 - val_dice_coef: 0.8482 - val_loss: 0.0179 - val_precision: 0.9187 - val_recall: 0.8123\n",
      "Epoch 87/150\n",
      "\u001b[1m648/648\u001b[0m \u001b[32m━━━━━━━━━━━━━━━━━━━━\u001b[0m\u001b[37m\u001b[0m \u001b[1m696s\u001b[0m 1s/step - dice_coef: 0.9602 - loss: 0.0015 - precision: 0.9775 - recall: 0.9530 - val_dice_coef: 0.8560 - val_loss: 0.0158 - val_precision: 0.8922 - val_recall: 0.8479\n",
      "Epoch 88/150\n",
      "\u001b[1m648/648\u001b[0m \u001b[32m━━━━━━━━━━━━━━━━━━━━\u001b[0m\u001b[37m\u001b[0m \u001b[1m700s\u001b[0m 1s/step - dice_coef: 0.9597 - loss: 0.0016 - precision: 0.9751 - recall: 0.9536 - val_dice_coef: 0.8482 - val_loss: 0.0175 - val_precision: 0.8887 - val_recall: 0.8433\n",
      "Epoch 89/150\n",
      "\u001b[1m648/648\u001b[0m \u001b[32m━━━━━━━━━━━━━━━━━━━━\u001b[0m\u001b[37m\u001b[0m \u001b[1m692s\u001b[0m 1s/step - dice_coef: 0.9599 - loss: 0.0016 - precision: 0.9746 - recall: 0.9544 - val_dice_coef: 0.8596 - val_loss: 0.0146 - val_precision: 0.9022 - val_recall: 0.8461\n"
     ]
    }
   ],
   "source": [
    "# Treinamento\n",
    "start = time.time()\n",
    "model_pruned.compile(optimizer=Adam(learning_rate=learning_rate), loss=loss, metrics=[dice_coef, precision, recall])\n",
    "training_history = model_pruned.fit(data_gen.generate_data(batch_size=batch_size, train=True),\n",
    "                             steps_per_epoch=int(data_gen.get_num_data_points(train=True) / batch_size),\n",
    "                             callbacks=callbacks,\n",
    "                             validation_data=data_gen.generate_data(batch_size=batch_size, val=True),\n",
    "                             validation_steps=int(data_gen.get_num_data_points(val=True) / batch_size),\n",
    "                             epochs=epochs)\n",
    "end = time.time()\n",
    "file = open(modelDirPath + modelName +\"Time.txt\", \"w\")\n",
    "file.write(\"Treinamento\\n\")\n",
    "file.write(str(end-start))\n",
    "file.close()"
   ]
  },
  {
   "cell_type": "code",
   "execution_count": 17,
   "id": "f19bf8d2",
   "metadata": {},
   "outputs": [
    {
     "name": "stderr",
     "output_type": "stream",
     "text": [
      "WARNING:absl:You are saving your model as an HDF5 file via `model.save()` or `keras.saving.save_model(model)`. This file format is considered legacy. We recommend using instead the native Keras format, e.g. `model.save('my_model.keras')` or `keras.saving.save_model(model, 'my_model.keras')`. \n"
     ]
    },
    {
     "data": {
      "image/png": "[encoded data removed]",
      "text/plain": [
       "<Figure size 640x480 with 1 Axes>"
      ]
     },
     "metadata": {},
     "output_type": "display_data"
    },
    {
     "data": {
      "text/plain": [
       "<Figure size 640x480 with 0 Axes>"
      ]
     },
     "metadata": {},
     "output_type": "display_data"
    }
   ],
   "source": [
    "# Salva o modelo e o historico de treinamento\n",
    "save_history(model, model_name, training_history, dataset, n_filters, epochs, learning_rate, loss, color_space='RGB',\n",
    "             path= modelDirPath + \"training_history/\", name= modelName + \"prunedmodelfile\")"
   ]
  }
 ],
 "metadata": {
  "kernelspec": {
   "display_name": "Python 3",
   "language": "python",
   "name": "python3"
  },
  "language_info": {
   "codemirror_mode": {
    "name": "ipython",
    "version": 3
   },
   "file_extension": ".py",
   "mimetype": "text/x-python",
   "name": "python",
   "nbconvert_exporter": "python",
   "pygments_lexer": "ipython3",
   "version": "3.10.0"
  }
 },
 "nbformat": 4,
 "nbformat_minor": 5
}
