{
 "cells": [
  {
   "cell_type": "code",
   "execution_count": 1,
   "id": "540c0fbb",
   "metadata": {},
   "outputs": [],
   "source": [
    "import os\n",
    "import sys\n",
    "module_path = os.path.abspath(os.path.join('..'))\n",
    "if module_path not in sys.path:\n",
    "    sys.path.append(module_path)"
   ]
  },
  {
   "cell_type": "code",
   "execution_count": 2,
   "id": "233fa52c",
   "metadata": {},
   "outputs": [
    {
     "name": "stdout",
     "output_type": "stream",
     "text": [
      "WARNING:tensorflow:From c:\\Users\\Lucas\\AppData\\Local\\Programs\\Python\\Python310\\lib\\site-packages\\tf_keras\\src\\losses.py:2976: The name tf.losses.sparse_softmax_cross_entropy is deprecated. Please use tf.compat.v1.losses.sparse_softmax_cross_entropy instead.\n",
      "\n"
     ]
    }
   ],
   "source": [
    "import tensorflow as tf\n",
    "\n",
    "from keras.models import load_model\n",
    "\n",
    "\n",
    "from woundSegmentation.utils.learning.metrics import dice_coef, precision, recall\n",
    "from woundSegmentation.utils.io.data import DataGen, load_test_images, save_results\n",
    "\n",
    "import os\n",
    "\n",
    "import numpy as np\n",
    "\n",
    "from woundSegmentation.models.SegNet import SegNet\n",
    "\n",
    "import tensorflow_model_optimization as tfmot\n",
    "\n",
    "import time\n",
    "%load_ext tensorboard"
   ]
  },
  {
   "cell_type": "code",
   "execution_count": 4,
   "id": "b8adb505",
   "metadata": {},
   "outputs": [
    {
     "ename": "ModuleNotFoundError",
     "evalue": "No module named 'keras.utils.data_utils'",
     "output_type": "error",
     "traceback": [
      "\u001b[1;31m---------------------------------------------------------------------------\u001b[0m",
      "\u001b[1;31mModuleNotFoundError\u001b[0m                       Traceback (most recent call last)",
      "Cell \u001b[1;32mIn[4], line 1\u001b[0m\n\u001b[1;32m----> 1\u001b[0m \u001b[38;5;28;01mfrom\u001b[39;00m\u001b[38;5;250m \u001b[39m\u001b[38;5;21;01mwoundSegmentation\u001b[39;00m\u001b[38;5;21;01m.\u001b[39;00m\u001b[38;5;21;01mmodels\u001b[39;00m\u001b[38;5;21;01m.\u001b[39;00m\u001b[38;5;21;01mdeeplab\u001b[39;00m\u001b[38;5;250m \u001b[39m\u001b[38;5;28;01mimport\u001b[39;00m relu6, DepthwiseConv2D, BilinearUpsampling\n",
      "File \u001b[1;32mc:\\Users\\Lucas\\Documents\\Github\\Comparacao_de_Modelos_de_Machine_Learning_para_Segmentacao_de_Feridas_Malignas_em_Imagens_Medicas\\woundSegmentation\\models\\deeplab.py:44\u001b[0m\n\u001b[0;32m     42\u001b[0m \u001b[38;5;28;01mfrom\u001b[39;00m\u001b[38;5;250m \u001b[39m\u001b[38;5;21;01mkeras\u001b[39;00m\u001b[38;5;21;01m.\u001b[39;00m\u001b[38;5;21;01mapplications\u001b[39;00m\u001b[38;5;250m \u001b[39m\u001b[38;5;28;01mimport\u001b[39;00m imagenet_utils\n\u001b[0;32m     43\u001b[0m \u001b[38;5;28;01mfrom\u001b[39;00m\u001b[38;5;250m \u001b[39m\u001b[38;5;21;01mtensorflow\u001b[39;00m\u001b[38;5;21;01m.\u001b[39;00m\u001b[38;5;21;01mpython\u001b[39;00m\u001b[38;5;21;01m.\u001b[39;00m\u001b[38;5;21;01mkeras\u001b[39;00m\u001b[38;5;21;01m.\u001b[39;00m\u001b[38;5;21;01mutils\u001b[39;00m\u001b[38;5;250m \u001b[39m\u001b[38;5;28;01mimport\u001b[39;00m conv_utils\n\u001b[1;32m---> 44\u001b[0m \u001b[38;5;28;01mfrom\u001b[39;00m\u001b[38;5;250m \u001b[39m\u001b[38;5;21;01mkeras\u001b[39;00m\u001b[38;5;21;01m.\u001b[39;00m\u001b[38;5;21;01mutils\u001b[39;00m\u001b[38;5;21;01m.\u001b[39;00m\u001b[38;5;21;01mdata_utils\u001b[39;00m\u001b[38;5;250m \u001b[39m\u001b[38;5;28;01mimport\u001b[39;00m get_file\n\u001b[0;32m     45\u001b[0m \u001b[38;5;28;01mfrom\u001b[39;00m\u001b[38;5;250m \u001b[39m\u001b[38;5;21;01mtensorflow\u001b[39;00m\u001b[38;5;21;01m.\u001b[39;00m\u001b[38;5;21;01mkeras\u001b[39;00m\u001b[38;5;21;01m.\u001b[39;00m\u001b[38;5;21;01mlayers\u001b[39;00m\u001b[38;5;250m \u001b[39m\u001b[38;5;28;01mimport\u001b[39;00m UpSampling2D\n\u001b[0;32m     47\u001b[0m WEIGHTS_PATH_X \u001b[38;5;241m=\u001b[39m \u001b[38;5;124m\"\u001b[39m\u001b[38;5;124mhttps://github.com/bonlime/keras-deeplab-v3-plus/releases/download/1.1/deeplabv3_xception_tf_dim_ordering_tf_kernels.h5\u001b[39m\u001b[38;5;124m\"\u001b[39m\n",
      "\u001b[1;31mModuleNotFoundError\u001b[0m: No module named 'keras.utils.data_utils'"
     ]
    }
   ],
   "source": [
    "from woundSegmentation.models.deeplab import relu6, DepthwiseConv2D, BilinearUpsampling"
   ]
  },
  {
   "cell_type": "code",
   "execution_count": 7,
   "id": "f6f9c979",
   "metadata": {},
   "outputs": [
    {
     "name": "stdout",
     "output_type": "stream",
     "text": [
      "Numero de GPUs disponiveis:  0\n"
     ]
    }
   ],
   "source": [
    "# checa por GPU\n",
    "os.environ[\"CUDA_VISIBLE_DEVICES\"] = \"-1\"\n",
    "print(\"Numero de GPUs disponiveis: \", len(tf.config.list_physical_devices('GPU')))"
   ]
  },
  {
   "cell_type": "code",
   "execution_count": 9,
   "id": "75007ea8",
   "metadata": {},
   "outputs": [],
   "source": [
    "# Insira o modelo desejado\n",
    "modelName = \"fusegnet\"\n",
    "\n",
    "# Se o modelo é podado ou não\n",
    "prune = False"
   ]
  },
  {
   "cell_type": "code",
   "execution_count": 10,
   "id": "fcdf4fde",
   "metadata": {},
   "outputs": [],
   "source": [
    "# Modelos disponiveis\n",
    "models = [\"fcn\", \"mobilenetv2\", \"segnet\", \"unet\", \"fusegnet\"]\n",
    "\n",
    "# Seleção do caminho\n",
    "if prune:\n",
    "    dirPath = '../woundSegmentation/results_prune/'\n",
    "else:\n",
    "    dirPath = '../woundSegmentation/results/'\n",
    "\n",
    "modelDirPath = dirPath + modelName + \"/\"\n",
    "\n",
    "# dataset\n",
    "dataset = 'Foot Ulcer Segmentation Challenge'"
   ]
  },
  {
   "cell_type": "code",
   "execution_count": 11,
   "id": "4c0fa0bf",
   "metadata": {},
   "outputs": [],
   "source": [
    "# tamanho das imagens de entrada\n",
    "input_dim_x = 224\n",
    "input_dim_y = 224"
   ]
  },
  {
   "cell_type": "code",
   "execution_count": 14,
   "id": "3b120438",
   "metadata": {},
   "outputs": [],
   "source": [
    "# Configuracao\n",
    "if prune:\n",
    "    weight_file_name = modelName + 'prunedmodelfile.hdf5'\n",
    "else:\n",
    "    weight_file_name = modelName + 'modelfile.hdf5'\n",
    "    \n",
    "color_space = 'rgb'\n",
    "pred_save_path = modelDirPath + 'datapredict/'\n",
    "path = '../woundSegmentation/data/' + dataset + '/'\n",
    "data_gen = DataGen(path, split_ratio=0.0, x=input_dim_x, y=input_dim_y, color_space=color_space)\n",
    "x_test, test_label_filenames_list = load_test_images(path)"
   ]
  },
  {
   "cell_type": "code",
   "execution_count": 15,
   "id": "81945aa3",
   "metadata": {},
   "outputs": [
    {
     "ename": "NameError",
     "evalue": "name 'relu6' is not defined",
     "output_type": "error",
     "traceback": [
      "\u001b[1;31m---------------------------------------------------------------------------\u001b[0m",
      "\u001b[1;31mNameError\u001b[0m                                 Traceback (most recent call last)",
      "Cell \u001b[1;32mIn[15], line 6\u001b[0m\n\u001b[0;32m      1\u001b[0m \u001b[38;5;66;03m# Carrega o modelo\u001b[39;00m\n\u001b[0;32m      2\u001b[0m model \u001b[38;5;241m=\u001b[39m load_model(modelDirPath \u001b[38;5;241m+\u001b[39m \u001b[38;5;124m'\u001b[39m\u001b[38;5;124mtraining_history/\u001b[39m\u001b[38;5;124m'\u001b[39m \u001b[38;5;241m+\u001b[39m weight_file_name\n\u001b[0;32m      3\u001b[0m                , custom_objects\u001b[38;5;241m=\u001b[39m{\u001b[38;5;124m'\u001b[39m\u001b[38;5;124mrecall\u001b[39m\u001b[38;5;124m'\u001b[39m:recall,\n\u001b[0;32m      4\u001b[0m                                  \u001b[38;5;124m'\u001b[39m\u001b[38;5;124mprecision\u001b[39m\u001b[38;5;124m'\u001b[39m:precision,\n\u001b[0;32m      5\u001b[0m                                  \u001b[38;5;124m'\u001b[39m\u001b[38;5;124mdice_coef\u001b[39m\u001b[38;5;124m'\u001b[39m: dice_coef,\n\u001b[1;32m----> 6\u001b[0m                                  \u001b[38;5;124m'\u001b[39m\u001b[38;5;124mrelu6\u001b[39m\u001b[38;5;124m'\u001b[39m:\u001b[43mrelu6\u001b[49m,\n\u001b[0;32m      7\u001b[0m                                  \u001b[38;5;124m'\u001b[39m\u001b[38;5;124mDepthwiseConv2D\u001b[39m\u001b[38;5;124m'\u001b[39m:DepthwiseConv2D,\n\u001b[0;32m      8\u001b[0m                                  \u001b[38;5;124m'\u001b[39m\u001b[38;5;124mBilinearUpsampling\u001b[39m\u001b[38;5;124m'\u001b[39m:BilinearUpsampling})\n",
      "\u001b[1;31mNameError\u001b[0m: name 'relu6' is not defined"
     ]
    }
   ],
   "source": [
    "# Carrega o modelo\n",
    "model = load_model(modelDirPath + 'training_history/' + weight_file_name\n",
    "               , custom_objects={'recall':recall,\n",
    "                                 'precision':precision,\n",
    "                                 'dice_coef': dice_coef,\n",
    "                                 'relu6':relu6,\n",
    "                                 'DepthwiseConv2D':DepthwiseConv2D,\n",
    "                                 'BilinearUpsampling':BilinearUpsampling})"
   ]
  },
  {
   "cell_type": "code",
   "execution_count": 11,
   "id": "f94cb640",
   "metadata": {},
   "outputs": [
    {
     "name": "stdout",
     "output_type": "stream",
     "text": [
      "7/7 [==============================] - 10s 1s/step\n"
     ]
    }
   ],
   "source": [
    "# Inicia a predição\n",
    "start = time.time()\n",
    "for image_batch, label_batch in data_gen.generate_data(batch_size=len(x_test), test = True):\n",
    "    prediction = model.predict(image_batch, verbose=1)\n",
    "    save_results(prediction, 'rgb', pred_save_path, test_label_filenames_list)\n",
    "    break\n",
    "end = time.time()\n",
    "file = open(modelDirPath + modelName +\"TimePred.txt\", \"w\")\n",
    "file.write(\"\\n\")\n",
    "file.write(\"Predicao\\n\")\n",
    "file.write(str(end-start))\n",
    "file.close()"
   ]
  },
  {
   "cell_type": "code",
   "execution_count": 12,
   "id": "603a4f17",
   "metadata": {},
   "outputs": [
    {
     "name": "stdout",
     "output_type": "stream",
     "text": [
      "../woundSegmentation/results_prune/mobilenetv2/datapredict/\n"
     ]
    }
   ],
   "source": [
    "print(pred_save_path)"
   ]
  }
 ],
 "metadata": {
  "kernelspec": {
   "display_name": "Python 3",
   "language": "python",
   "name": "python3"
  },
  "language_info": {
   "codemirror_mode": {
    "name": "ipython",
    "version": 3
   },
   "file_extension": ".py",
   "mimetype": "text/x-python",
   "name": "python",
   "nbconvert_exporter": "python",
   "pygments_lexer": "ipython3",
   "version": "3.10.0"
  }
 },
 "nbformat": 4,
 "nbformat_minor": 5
}
